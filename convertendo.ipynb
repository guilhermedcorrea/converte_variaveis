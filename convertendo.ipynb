{
 "cells": [
  {
   "cell_type": "code",
   "execution_count": 204,
   "metadata": {},
   "outputs": [],
   "source": [
    "import pandas as pd\n",
    "import  numpy as np\n",
    "from sklearn.preprocessing import OneHotEncoder, StandardScaler,LabelEncoder\n",
    "from sklearn.compose import ColumnTransformer\n",
    "from sklearn.model_selection import train_test_split, cross_val_score\n",
    "import warnings\n",
    "from sklearn.model_selection import cross_validate\n",
    "warnings.filterwarnings(\"ignore\")"
   ]
  },
  {
   "cell_type": "code",
   "execution_count": 205,
   "metadata": {},
   "outputs": [],
   "source": [
    "uri = r\"D:\\seriestesteapp\\super_loja.csv\"\n",
    "\n",
    "dados = pd.read_csv(uri, sep=\";\",encoding=\"latin-1\")\n",
    "dados.fillna(0, inplace=True)"
   ]
  },
  {
   "cell_type": "code",
   "execution_count": 206,
   "metadata": {},
   "outputs": [],
   "source": [
    "\n",
    "dados[['Vendas',\n",
    "       'Desconto', 'Lucro']] = dados[['Vendas','Desconto', 'Lucro']].applymap(lambda k: float(str(k).replace(\",\",\".\")))"
   ]
  },
  {
   "cell_type": "code",
   "execution_count": 210,
   "metadata": {},
   "outputs": [],
   "source": [
    "\n",
    "\n",
    "\n",
    "colunas_categoricas = dados.select_dtypes(include=['object']).columns.tolist()\n",
    "\n",
    "colunas_numericas = ['Vendas', 'Quantidade', 'Lucro', 'Desconto']\n",
    "\n",
    "\n",
    "encoder = OneHotEncoder(handle_unknown='ignore', sparse=False) \n",
    "dados_encoded = encoder.fit_transform(dados[colunas_categoricas])\n",
    "\n",
    "\n",
    "categorical_column_names = encoder.get_feature_names_out(input_features=colunas_categoricas)\n",
    "\n",
    "dados_encoded_df = pd.DataFrame(dados_encoded, columns=categorical_column_names)\n",
    "\n",
    "dados_final = pd.concat([dados[colunas_numericas], dados_encoded_df], axis=1)\n",
    "\n",
    "X = dados_final.drop('Vendas', axis=1)\n",
    "y = dados_final['Vendas']\n",
    "\n",
    "X_train, X_test, y_train, y_test = train_test_split(X, y, test_size=0.3, random_state=42)\n",
    "\n",
    "\n",
    "scaler = StandardScaler()\n",
    "X_train = scaler.fit_transform(X_train)\n",
    "X_test = scaler.transform(X_test)\n"
   ]
  },
  {
   "cell_type": "code",
   "execution_count": 209,
   "metadata": {},
   "outputs": [
    {
     "data": {
      "text/plain": [
       "array([[-0.3359825 , -0.03770768, -0.69449112, ..., -0.02468722,\n",
       "        -0.02207957, -0.01561071],\n",
       "       [ 0.11668127,  0.14537769, -0.69449112, ..., -0.02468722,\n",
       "        -0.02207957, -0.01561071],\n",
       "       [-0.78864628, -0.11830504, -0.69449112, ..., -0.02468722,\n",
       "        -0.02207957, -0.01561071],\n",
       "       ...,\n",
       "       [ 0.56934504, -0.03422508, -0.69449112, ..., -0.02468722,\n",
       "        -0.02207957, -0.01561071],\n",
       "       [-0.78864628, -0.17880282,  1.34958723, ..., -0.02468722,\n",
       "        -0.02207957, -0.01561071],\n",
       "       [ 1.02200882, -2.538017  ,  1.34958723, ..., -0.02468722,\n",
       "        -0.02207957, -0.01561071]])"
      ]
     },
     "execution_count": 209,
     "metadata": {},
     "output_type": "execute_result"
    }
   ],
   "source": [
    "X_train"
   ]
  },
  {
   "cell_type": "code",
   "execution_count": null,
   "metadata": {},
   "outputs": [],
   "source": [
    "#scores = cross_validate(dados_encoded_df, X, y, scoring=scoring)"
   ]
  },
  {
   "cell_type": "code",
   "execution_count": null,
   "metadata": {},
   "outputs": [],
   "source": []
  },
  {
   "cell_type": "code",
   "execution_count": null,
   "metadata": {},
   "outputs": [],
   "source": [
    "\n",
    "\n",
    "\n"
   ]
  },
  {
   "cell_type": "code",
   "execution_count": null,
   "metadata": {},
   "outputs": [],
   "source": []
  },
  {
   "cell_type": "code",
   "execution_count": null,
   "metadata": {},
   "outputs": [],
   "source": []
  },
  {
   "cell_type": "code",
   "execution_count": null,
   "metadata": {},
   "outputs": [],
   "source": []
  },
  {
   "cell_type": "code",
   "execution_count": null,
   "metadata": {},
   "outputs": [],
   "source": []
  },
  {
   "cell_type": "code",
   "execution_count": null,
   "metadata": {},
   "outputs": [],
   "source": []
  },
  {
   "cell_type": "code",
   "execution_count": null,
   "metadata": {},
   "outputs": [
    {
     "data": {
      "text/html": [
       "<div>\n",
       "<style scoped>\n",
       "    .dataframe tbody tr th:only-of-type {\n",
       "        vertical-align: middle;\n",
       "    }\n",
       "\n",
       "    .dataframe tbody tr th {\n",
       "        vertical-align: top;\n",
       "    }\n",
       "\n",
       "    .dataframe thead th {\n",
       "        text-align: right;\n",
       "    }\n",
       "</style>\n",
       "<table border=\"1\" class=\"dataframe\">\n",
       "  <thead>\n",
       "    <tr style=\"text-align: right;\">\n",
       "      <th></th>\n",
       "      <th>ID da fila</th>\n",
       "      <th>ID do pedido</th>\n",
       "      <th>Data do pedido</th>\n",
       "      <th>Data de envio</th>\n",
       "      <th>Modo de envio</th>\n",
       "      <th>ID do cliente</th>\n",
       "      <th>Nome do cliente</th>\n",
       "      <th>Segmento</th>\n",
       "      <th>Cidade</th>\n",
       "      <th>Estado</th>\n",
       "      <th>País/Região</th>\n",
       "      <th>Região</th>\n",
       "      <th>ID do produto</th>\n",
       "      <th>Categoria</th>\n",
       "      <th>Sub-categoria</th>\n",
       "      <th>Nome do produto</th>\n",
       "      <th>Vendas</th>\n",
       "      <th>Quantidade</th>\n",
       "      <th>Desconto</th>\n",
       "      <th>Lucro</th>\n",
       "    </tr>\n",
       "  </thead>\n",
       "  <tbody>\n",
       "    <tr>\n",
       "      <th>0</th>\n",
       "      <td>1</td>\n",
       "      <td>MX-2021-143658</td>\n",
       "      <td>02/10/2021</td>\n",
       "      <td>06/10/2021</td>\n",
       "      <td>Classe padrão</td>\n",
       "      <td>SR-20575</td>\n",
       "      <td>Sofia Rocha</td>\n",
       "      <td>Varejo</td>\n",
       "      <td>Cidade do México</td>\n",
       "      <td>Distrito Federal</td>\n",
       "      <td>México</td>\n",
       "      <td>Norte</td>\n",
       "      <td>MAT-ET-10001014</td>\n",
       "      <td>Material de escritório</td>\n",
       "      <td>Etiquetas</td>\n",
       "      <td>HON Etiquetas para organização de pastas, Ajus...</td>\n",
       "      <td>130,8</td>\n",
       "      <td>3</td>\n",
       "      <td>0</td>\n",
       "      <td>45,6</td>\n",
       "    </tr>\n",
       "    <tr>\n",
       "      <th>1</th>\n",
       "      <td>2</td>\n",
       "      <td>MX-2019-155047</td>\n",
       "      <td>16/10/2019</td>\n",
       "      <td>21/10/2019</td>\n",
       "      <td>Classe padrão</td>\n",
       "      <td>LC-16570</td>\n",
       "      <td>Larissa Cardoso</td>\n",
       "      <td>Varejo</td>\n",
       "      <td>Dos Quebradas</td>\n",
       "      <td>Risaralda</td>\n",
       "      <td>Colômbia</td>\n",
       "      <td>Sul</td>\n",
       "      <td>MÓV-MÓ-10004592</td>\n",
       "      <td>Móveis</td>\n",
       "      <td>Móveis</td>\n",
       "      <td>Tenex Relógio de parede, Durável</td>\n",
       "      <td>2521,6</td>\n",
       "      <td>8</td>\n",
       "      <td>0</td>\n",
       "      <td>907,2</td>\n",
       "    </tr>\n",
       "    <tr>\n",
       "      <th>2</th>\n",
       "      <td>3</td>\n",
       "      <td>MX-2019-155047</td>\n",
       "      <td>16/10/2019</td>\n",
       "      <td>21/10/2019</td>\n",
       "      <td>Classe padrão</td>\n",
       "      <td>LC-16570</td>\n",
       "      <td>Larissa Cardoso</td>\n",
       "      <td>Varejo</td>\n",
       "      <td>Dos Quebradas</td>\n",
       "      <td>Risaralda</td>\n",
       "      <td>Colômbia</td>\n",
       "      <td>Sul</td>\n",
       "      <td>MÓV-ES-10000849</td>\n",
       "      <td>Móveis</td>\n",
       "      <td>Estantes</td>\n",
       "      <td>Ikea Gaveteiro, Branco</td>\n",
       "      <td>1932,8</td>\n",
       "      <td>2</td>\n",
       "      <td>0</td>\n",
       "      <td>540,8</td>\n",
       "    </tr>\n",
       "  </tbody>\n",
       "</table>\n",
       "</div>"
      ],
      "text/plain": [
       "   ID da fila    ID do pedido Data do pedido Data de envio  Modo de envio  \\\n",
       "0           1  MX-2021-143658     02/10/2021    06/10/2021  Classe padrão   \n",
       "1           2  MX-2019-155047     16/10/2019    21/10/2019  Classe padrão   \n",
       "2           3  MX-2019-155047     16/10/2019    21/10/2019  Classe padrão   \n",
       "\n",
       "  ID do cliente  Nome do cliente Segmento            Cidade            Estado  \\\n",
       "0      SR-20575      Sofia Rocha   Varejo  Cidade do México  Distrito Federal   \n",
       "1      LC-16570  Larissa Cardoso   Varejo     Dos Quebradas         Risaralda   \n",
       "2      LC-16570  Larissa Cardoso   Varejo     Dos Quebradas         Risaralda   \n",
       "\n",
       "  País/Região Região    ID do produto               Categoria Sub-categoria  \\\n",
       "0      México  Norte  MAT-ET-10001014  Material de escritório     Etiquetas   \n",
       "1    Colômbia    Sul  MÓV-MÓ-10004592                  Móveis        Móveis   \n",
       "2    Colômbia    Sul  MÓV-ES-10000849                  Móveis      Estantes   \n",
       "\n",
       "                                     Nome do produto  Vendas  Quantidade  \\\n",
       "0  HON Etiquetas para organização de pastas, Ajus...   130,8           3   \n",
       "1                   Tenex Relógio de parede, Durável  2521,6           8   \n",
       "2                             Ikea Gaveteiro, Branco  1932,8           2   \n",
       "\n",
       "  Desconto  Lucro  \n",
       "0        0   45,6  \n",
       "1        0  907,2  \n",
       "2        0  540,8  "
      ]
     },
     "execution_count": 7,
     "metadata": {},
     "output_type": "execute_result"
    }
   ],
   "source": [
    "vendas_df.head(3)"
   ]
  },
  {
   "cell_type": "code",
   "execution_count": null,
   "metadata": {},
   "outputs": [],
   "source": []
  }
 ],
 "metadata": {
  "kernelspec": {
   "display_name": "venv",
   "language": "python",
   "name": "python3"
  },
  "language_info": {
   "codemirror_mode": {
    "name": "ipython",
    "version": 3
   },
   "file_extension": ".py",
   "mimetype": "text/x-python",
   "name": "python",
   "nbconvert_exporter": "python",
   "pygments_lexer": "ipython3",
   "version": "3.11.5"
  },
  "orig_nbformat": 4
 },
 "nbformat": 4,
 "nbformat_minor": 2
}
